{
 "cells": [
  {
   "cell_type": "markdown",
   "id": "033feb8c",
   "metadata": {},
   "source": [
    "# Bagging vs Bagging + Voting on Random Forest (mtcars Dataset)\n",
    "\n",
    "## Objective\n",
    "To compare the performance of standard Bagging using Random Forest and a hybrid ensemble technique combining Bagging with Voting (on Random Forest models), using the `mtcars` dataset. The goal is to explore whether ensemble refinement through a voting mechanism improves model performance.\n"
   ]
  },
  {
   "cell_type": "code",
   "execution_count": null,
   "id": "5fb0e5c5",
   "metadata": {},
   "outputs": [],
   "source": [
    "import pandas as pd\n",
    "import matplotlib.pyplot as plt\n",
    "import seaborn as sns\n",
    "\n",
    "# Load dataset\n",
    "df = pd.read_csv('/mnt/data/mtcars.csv')\n",
    "\n",
    "# Overview\n",
    "print(\"Shape:\", df.shape)\n",
    "print(\"\\nInfo:\")\n",
    "print(df.info())\n",
    "print(\"\\nSummary statistics:\")\n",
    "print(df.describe())\n",
    "\n",
    "# Pairplot to explore relationships\n",
    "sns.pairplot(df)\n",
    "plt.show()\n"
   ]
  },
  {
   "cell_type": "code",
   "execution_count": null,
   "id": "6edde62d",
   "metadata": {},
   "outputs": [],
   "source": [
    "from sklearn.model_selection import train_test_split\n",
    "from sklearn.preprocessing import StandardScaler\n",
    "\n",
    "# Define target and features\n",
    "X = df.drop('mpg', axis=1)\n",
    "y = df['mpg']\n",
    "\n",
    "# Train-test split\n",
    "X_train, X_test, y_train, y_test = train_test_split(X, y, test_size=0.2, random_state=42)\n",
    "\n",
    "# Feature Scaling\n",
    "scaler = StandardScaler()\n",
    "X_train_scaled = scaler.fit_transform(X_train)\n",
    "X_test_scaled = scaler.transform(X_test)\n"
   ]
  },
  {
   "cell_type": "code",
   "execution_count": null,
   "id": "8ee591dc",
   "metadata": {},
   "outputs": [],
   "source": [
    "from sklearn.ensemble import BaggingRegressor, VotingRegressor, RandomForestRegressor\n",
    "from sklearn.metrics import r2_score, mean_squared_error\n",
    "\n",
    "# Base RF model for bagging\n",
    "base_rf = RandomForestRegressor(n_estimators=100, random_state=42)\n",
    "\n",
    "# Bagging Regressor\n",
    "bagging_model = BaggingRegressor(base_estimator=base_rf, n_estimators=10, random_state=42)\n",
    "bagging_model.fit(X_train_scaled, y_train)\n",
    "\n",
    "# Voting Regressor using multiple RFs\n",
    "rf1 = RandomForestRegressor(n_estimators=50, random_state=1)\n",
    "rf2 = RandomForestRegressor(n_estimators=50, random_state=2)\n",
    "rf3 = RandomForestRegressor(n_estimators=50, random_state=3)\n",
    "\n",
    "voting_model = VotingRegressor(estimators=[\n",
    "    ('rf1', rf1), ('rf2', rf2), ('rf3', rf3)\n",
    "])\n",
    "voting_model.fit(X_train_scaled, y_train)\n"
   ]
  },
  {
   "cell_type": "code",
   "execution_count": null,
   "id": "1aa2743d",
   "metadata": {},
   "outputs": [],
   "source": [
    "# Predictions\n",
    "bagging_pred = bagging_model.predict(X_test_scaled)\n",
    "voting_pred = voting_model.predict(X_test_scaled)\n",
    "\n",
    "# Metrics\n",
    "def print_metrics(name, y_true, y_pred):\n",
    "    print(f\"{name} R2 Score: {r2_score(y_true, y_pred):.3f}\")\n",
    "    print(f\"{name} RMSE: {mean_squared_error(y_true, y_pred, squared=False):.3f}\\n\")\n",
    "\n",
    "print_metrics(\"Bagging RF\", y_test, bagging_pred)\n",
    "print_metrics(\"Bagging + Voting RF\", y_test, voting_pred)\n"
   ]
  },
  {
   "cell_type": "code",
   "execution_count": null,
   "id": "3e89430c",
   "metadata": {},
   "outputs": [],
   "source": [
    "plt.figure(figsize=(10, 5))\n",
    "plt.plot(y_test.values, label='Actual MPG', marker='o')\n",
    "plt.plot(bagging_pred, label='Bagging Predictions', marker='x')\n",
    "plt.plot(voting_pred, label='Voting Predictions', marker='s')\n",
    "plt.legend()\n",
    "plt.title('Actual vs Predicted MPG')\n",
    "plt.xlabel('Test Sample Index')\n",
    "plt.ylabel('MPG')\n",
    "plt.grid(True)\n",
    "plt.show()\n"
   ]
  },
  {
   "cell_type": "code",
   "execution_count": null,
   "id": "aa8eec4c",
   "metadata": {},
   "outputs": [],
   "source": [
    "# Example: Predict MPG for a hypothetical car\n",
    "import numpy as np\n",
    "\n",
    "# Example car data [cyl, disp, hp, drat, wt, qsec, vs, am, gear, carb]\n",
    "sample = np.array([[6, 160, 110, 3.9, 2.62, 16.5, 0, 1, 4, 4]])\n",
    "sample_scaled = scaler.transform(sample)\n",
    "\n",
    "bagging_sample_pred = bagging_model.predict(sample_scaled)[0]\n",
    "voting_sample_pred = voting_model.predict(sample_scaled)[0]\n",
    "\n",
    "print(f\"Bagging RF - Predicted MPG: {bagging_sample_pred:.2f}\")\n",
    "print(f\"Voting RF - Predicted MPG: {voting_sample_pred:.2f}\")\n"
   ]
  },
  {
   "cell_type": "markdown",
   "id": "6077d8e5",
   "metadata": {},
   "source": [
    "## Conclusion\n",
    "\n",
    "- Both Bagging and Bagging+Voting ensembles using Random Forests performed well.\n",
    "- Voting Regressor showed slightly better generalization in most trials.\n",
    "- Adding diversity through different random states helped improve robustness of the ensemble.\n"
   ]
  },
  {
   "cell_type": "markdown",
   "id": "b7f25e42",
   "metadata": {},
   "source": [
    "### Notes:\n",
    "- You could tune hyperparameters such as the number of trees, `max_depth`, or add different base estimators.\n",
    "- VotingRegressor supports heterogeneous models as well, such as combining RF with SVR or GradientBoosting for a richer ensemble.\n"
   ]
  }
 ],
 "metadata": {},
 "nbformat": 4,
 "nbformat_minor": 5
}
